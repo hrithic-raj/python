{
 "cells": [
  {
   "cell_type": "code",
   "execution_count": 8,
   "id": "b89a431b",
   "metadata": {},
   "outputs": [
    {
     "name": "stdout",
     "output_type": "stream",
     "text": [
      "Enter the number:3\n",
      "6\n"
     ]
    }
   ],
   "source": [
    "s=1\n",
    "a=int(input(\"Enter the number:\"))\n",
    "for i in range(1,a+1):\n",
    "    s=s*i\n",
    "print(s)\n"
   ]
  },
  {
   "cell_type": "code",
   "execution_count": 20,
   "id": "03885340",
   "metadata": {},
   "outputs": [
    {
     "name": "stdout",
     "output_type": "stream",
     "text": [
      "Enter the number:3\n",
      "Enter the range:10\n",
      "1 * 3 = 3\n",
      "2 * 3 = 6\n",
      "3 * 3 = 9\n",
      "4 * 3 = 12\n",
      "5 * 3 = 15\n",
      "6 * 3 = 18\n",
      "7 * 3 = 21\n",
      "8 * 3 = 24\n",
      "9 * 3 = 27\n",
      "10 * 3 = 30\n"
     ]
    }
   ],
   "source": [
    "a=int(input(\"Enter the number:\"))\n",
    "b=int(input(\"Enter the range:\"))\n",
    "for i in range(1,b+1):\n",
    "    r=i*a\n",
    "    print(i ,\"*\",a,\"=\",r)"
   ]
  },
  {
   "cell_type": "code",
   "execution_count": 23,
   "id": "c3aadc2f",
   "metadata": {},
   "outputs": [
    {
     "name": "stdout",
     "output_type": "stream",
     "text": [
      "Amana\n",
      "vishnu\n",
      "navya\n",
      "chudki\n"
     ]
    }
   ],
   "source": [
    "a=[\"Amana\",\"vishnu\",\"navya\",\"chudki\"]\n",
    "for i in a:\n",
    "    print(i)\n",
    "    "
   ]
  },
  {
   "cell_type": "code",
   "execution_count": 28,
   "id": "19c2a705",
   "metadata": {},
   "outputs": [
    {
     "name": "stdout",
     "output_type": "stream",
     "text": [
      "ZC\n",
      "SPIDER\n"
     ]
    }
   ],
   "source": [
    "a=[\"Amana\",\"vishnu\",\"navya\",\"chudki\",\"ZC\",\"SPIDER\",\"VC\",\"XE\",\"MR\"]\n",
    "s=len(a)\n",
    "for i in range(4,6):\n",
    "    print(a[i])\n",
    "    \n",
    "    "
   ]
  },
  {
   "cell_type": "code",
   "execution_count": 47,
   "id": "b305c7b8",
   "metadata": {},
   "outputs": [
    {
     "name": "stdout",
     "output_type": "stream",
     "text": [
      "Enter the limit:10\n",
      "0 \n",
      " 1\n",
      "1\n",
      "2\n",
      "3\n",
      "5\n",
      "8\n",
      "13\n",
      "21\n",
      "34\n"
     ]
    }
   ],
   "source": [
    "r=int(input(\"Enter the limit:\"))\n",
    "a=0\n",
    "b=1\n",
    "c=0\n",
    "print(a,b)\n",
    "for i in range(0,r-2):\n",
    "    c=a+b\n",
    "    print(c)\n",
    "    a=b\n",
    "    b=c"
   ]
  },
  {
   "cell_type": "code",
   "execution_count": null,
   "id": "77052bdd",
   "metadata": {},
   "outputs": [],
   "source": []
  }
 ],
 "metadata": {
  "kernelspec": {
   "display_name": "Python 3 (ipykernel)",
   "language": "python",
   "name": "python3"
  },
  "language_info": {
   "codemirror_mode": {
    "name": "ipython",
    "version": 3
   },
   "file_extension": ".py",
   "mimetype": "text/x-python",
   "name": "python",
   "nbconvert_exporter": "python",
   "pygments_lexer": "ipython3",
   "version": "3.11.5"
  }
 },
 "nbformat": 4,
 "nbformat_minor": 5
}
