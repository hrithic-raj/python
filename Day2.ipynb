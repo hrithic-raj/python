{
 "cells": [
  {
   "cell_type": "code",
   "execution_count": 9,
   "id": "cee9ddaf",
   "metadata": {},
   "outputs": [
    {
     "name": "stdout",
     "output_type": "stream",
     "text": [
      "Enter a number:5\n",
      "1\n",
      "*\n",
      "*\n",
      "*\n",
      "*\n",
      "*\n",
      "2\n",
      "*\n",
      "*\n",
      "*\n",
      "*\n",
      "*\n",
      "3\n",
      "*\n",
      "*\n",
      "*\n",
      "*\n",
      "*\n",
      "4\n",
      "*\n",
      "*\n",
      "*\n",
      "*\n",
      "*\n"
     ]
    }
   ],
   "source": [
    "n=int(input(\"Enter a number:\"))\n",
    "for i in range(1,n):\n",
    "    print(i)\n",
    "    for k in range(0,n):\n",
    "        print(\"*\")\n",
    "    "
   ]
  },
  {
   "cell_type": "code",
   "execution_count": 24,
   "id": "4dc66821",
   "metadata": {},
   "outputs": [
    {
     "name": "stdout",
     "output_type": "stream",
     "text": [
      "😈 \n",
      "😈 😈 \n",
      "😈 😈 😈 \n",
      "😈 😈 😈 😈 \n",
      "😈 😈 😈 😈 😈 \n"
     ]
    }
   ],
   "source": [
    "for i in range(0,5):\n",
    "    for k in range(0,i+1):\n",
    "        print(\"😈\",end=\" \")\n",
    "    print(\"\")"
   ]
  },
  {
   "cell_type": "code",
   "execution_count": 25,
   "id": "5741e5be",
   "metadata": {},
   "outputs": [
    {
     "name": "stdout",
     "output_type": "stream",
     "text": [
      "💖 \n",
      "💖 💖 \n",
      "💖 💖 💖 \n",
      "💖 💖 💖 💖 \n",
      "💖 💖 💖 💖 💖 \n"
     ]
    }
   ],
   "source": [
    "for i in range(0,5):\n",
    "    for k in range(0,i+1):\n",
    "        print(\"💖\",end=\" \")\n",
    "    print(\"\")"
   ]
  },
  {
   "cell_type": "code",
   "execution_count": 35,
   "id": "faed0615",
   "metadata": {},
   "outputs": [
    {
     "name": "stdout",
     "output_type": "stream",
     "text": [
      "1\n",
      "2\n",
      "3\n",
      "4\n",
      "5\n",
      "7\n",
      "8\n",
      "9\n",
      "10\n"
     ]
    }
   ],
   "source": [
    "a=0\n",
    "while (a<10):\n",
    "    a=a+1\n",
    "    if(a==6):\n",
    "        continue\n",
    "    print(a)\n",
    "   "
   ]
  },
  {
   "cell_type": "code",
   "execution_count": 38,
   "id": "834e7ee5",
   "metadata": {},
   "outputs": [
    {
     "name": "stdout",
     "output_type": "stream",
     "text": [
      "0\n"
     ]
    }
   ],
   "source": [
    "a=0\n",
    "if a>5:\n",
    "    pass\n",
    "print(a)"
   ]
  },
  {
   "cell_type": "code",
   "execution_count": 65,
   "id": "b6b3a624",
   "metadata": {},
   "outputs": [
    {
     "name": "stdout",
     "output_type": "stream",
     "text": [
      "select stone or paper or scissor : scissor\n",
      "computer: scissor\n",
      "hrj: scissor\n",
      "drow\n",
      "select stone or paper or scissor : stone\n",
      "computer: stone\n",
      "hrj: stone\n",
      "drow\n",
      "select stone or paper or scissor : paper\n",
      "computer: stone\n",
      "hrj: paper\n",
      "hrj got 1 point\n",
      "\n",
      "computer got a total of 0 points\n",
      "hrj got a total of 1 points \n",
      "\n",
      "hrj won\n"
     ]
    }
   ],
   "source": [
    "import random\n",
    "r=0\n",
    "a=0\n",
    "b=0\n",
    "while(r<3):\n",
    "    d=[\"stone\",\"paper\",\"scissor\"]\n",
    "    com=random.choice(d)\n",
    "    hrj=input(\"select stone or paper or scissor : \")\n",
    "    print(\"computer:\",com)\n",
    "    print(\"hrj:\",hrj)\n",
    "    \n",
    "    if com==hrj:\n",
    "        print(\"drow\")\n",
    "    elif com==\"stone\" and hrj==\"paper\":\n",
    "        print(\"hrj got 1 point\")\n",
    "        a=a+1\n",
    "    elif com==\"paper\" and hrj==\"scissor\":\n",
    "        print(\"hrj got 1 point\")\n",
    "        a=a+1\n",
    "    elif com==\"stone\" and hrj==\"scissor\":\n",
    "        print(\"computer got 1 point\")\n",
    "        b=b+1\n",
    "    elif com==\"paper\" and hrj==\"stone\":\n",
    "        print(\"computer got 1 point\")\n",
    "        b=b+1\n",
    "    elif com==\"scissor\" and hrj==\"paper\":\n",
    "        print(\"computer got 1 point\")\n",
    "        b=b+1\n",
    "    elif com==\"scissor\" and hrj==\"stone\":\n",
    "        print(\"hrj got 1 point\")\n",
    "        a=a+1\n",
    "    else:\n",
    "        print(\"invalid\")\n",
    "    r=r+1\n",
    "\n",
    "print(\"\\ncomputer got a total of\",b,\"points\")    \n",
    "print(\"hrj got a total of\",a,\"points \\n\")\n",
    "if a>b:\n",
    "    print(\"hrj won\")\n",
    "elif a==b:\n",
    "    print(\"drow\")\n",
    "else:\n",
    "    print(\"computer won\")"
   ]
  },
  {
   "cell_type": "code",
   "execution_count": 20,
   "id": "3b768dd6",
   "metadata": {},
   "outputs": [
    {
     "name": "stdout",
     "output_type": "stream",
     "text": [
      "Enter the limit:5\n",
      "0\n",
      "1\n",
      "1\n",
      "2\n",
      "3\n"
     ]
    }
   ],
   "source": [
    "n=int(input(\"Enter the limit:\"))\n",
    "a=0\n",
    "b=1\n",
    "c=0\n",
    "print(a)\n",
    "print(b)\n",
    "while 0<n-2:\n",
    "    c=a+b\n",
    "    print(c)\n",
    "    a=b\n",
    "    b=c\n",
    "    n=n-1"
   ]
  },
  {
   "cell_type": "code",
   "execution_count": 22,
   "id": "17845858",
   "metadata": {},
   "outputs": [
    {
     "ename": "SyntaxError",
     "evalue": "invalid syntax (3347941988.py, line 4)",
     "output_type": "error",
     "traceback": [
      "\u001b[1;36m  Cell \u001b[1;32mIn[22], line 4\u001b[1;36m\u001b[0m\n\u001b[1;33m    while i=<a:\u001b[0m\n\u001b[1;37m           ^\u001b[0m\n\u001b[1;31mSyntaxError\u001b[0m\u001b[1;31m:\u001b[0m invalid syntax\n"
     ]
    }
   ],
   "source": [
    "s=1\n",
    "i=1\n",
    "a=int(input(\"Enter the number:\"))\n",
    "while i=<a:\n",
    "    s=s*i\n",
    "    i=i+1\n",
    "print(\"\\n factorial = \",s)\n"
   ]
  },
  {
   "cell_type": "code",
   "execution_count": 30,
   "id": "b3843c00",
   "metadata": {},
   "outputs": [
    {
     "name": "stdout",
     "output_type": "stream",
     "text": [
      "1\n",
      "2\n",
      "3\n",
      "4\n",
      "5\n",
      "6\n",
      "7\n",
      "8\n",
      "9\n",
      "10\n"
     ]
    }
   ],
   "source": [
    "a=1\n",
    "while (True):\n",
    "    if a==11:\n",
    "        break\n",
    "    print(a)\n",
    "    a=a+1"
   ]
  },
  {
   "cell_type": "code",
   "execution_count": 32,
   "id": "d10d6b50",
   "metadata": {},
   "outputs": [
    {
     "name": "stdout",
     "output_type": "stream",
     "text": [
      "Enter the Number: \n",
      "5\n",
      "\n",
      "Factorial = 120\n"
     ]
    }
   ],
   "source": [
    "print(\"Enter the Number: \")\n",
    "num = int(input())\n",
    "\n",
    "fact = 1\n",
    "i = 1\n",
    "while i<=num:\n",
    "    fact = fact*i\n",
    "    i = i+1\n",
    "\n",
    "print(\"\\nFactorial =\", fact)"
   ]
  },
  {
   "cell_type": "code",
   "execution_count": 3,
   "id": "de2a0430",
   "metadata": {},
   "outputs": [
    {
     "name": "stdout",
     "output_type": "stream",
     "text": [
      "Enter the number:5\n",
      "\n",
      " factorial =  120\n"
     ]
    }
   ],
   "source": [
    "s=1\n",
    "i=1\n",
    "a=int(input(\"Enter the number:\"))\n",
    "while i<=a:\n",
    "    s=s*i\n",
    "    i=i+1\n",
    "print(\"\\n factorial = \",s)"
   ]
  },
  {
   "cell_type": "code",
   "execution_count": 7,
   "id": "bcf2accb",
   "metadata": {},
   "outputs": [
    {
     "name": "stdout",
     "output_type": "stream",
     "text": [
      "Enter the 1st number:45\n",
      "Enter the 2st number:45\n",
      "Sum = 90\n"
     ]
    }
   ],
   "source": [
    "def sum(a,b):\n",
    "    r=a+b\n",
    "    print(\"Sum =\",r)\n",
    "a=int(input(\"Enter the 1st number:\"))\n",
    "b=int(input(\"Enter the 2st number:\"))\n",
    "sum(a,b)"
   ]
  },
  {
   "cell_type": "code",
   "execution_count": 8,
   "id": "3f216895",
   "metadata": {},
   "outputs": [],
   "source": [
    "def add(a,b):\n",
    "    c=a+b\n",
    "    print(c)\n",
    "    return(c)\n",
    "def sub(a,b):\n",
    "    c=a-b\n",
    "    print(c)\n",
    "    return(c)\n",
    "def mult(a,b):\n",
    "    c=a*b\n",
    "    print(c)\n",
    "    return(c)\n",
    "def div(a,b):\n",
    "    c=a/b\n",
    "    print(c)\n",
    "    return(c)"
   ]
  },
  {
   "cell_type": "code",
   "execution_count": 16,
   "id": "b7192ecb",
   "metadata": {},
   "outputs": [
    {
     "name": "stdout",
     "output_type": "stream",
     "text": [
      "Enter the 1st number:2\n",
      "Enter the 2nd number:2\n",
      "Enter the operation symbol:-\n",
      "0\n"
     ]
    }
   ],
   "source": [
    "a=int(input(\"Enter the 1st number:\"))\n",
    "b=int(input(\"Enter the 2nd number:\"))\n",
    "op=input(\"Enter the operation symbol:\")\n",
    "if (op==\"+\"):\n",
    "    add(a,b)\n",
    "elif (op==\"-\"):\n",
    "    sub(a,b)\n",
    "elif (op==\"*\"):\n",
    "    multi(a,b)\n",
    "elif (op==\"/\"):\n",
    "    div(a,b)\n",
    "else:\n",
    "    print(\"invalid\")"
   ]
  },
  {
   "cell_type": "markdown",
   "id": "23283d84",
   "metadata": {},
   "source": []
  },
  {
   "cell_type": "code",
   "execution_count": 26,
   "id": "c80764b0",
   "metadata": {},
   "outputs": [],
   "source": [
    "def fact(a):\n",
    "    s=1\n",
    "    i=1\n",
    "    while i<=a:\n",
    "        s=s*i\n",
    "        i=i+1\n",
    "    print(\"factorial of\",a,\"is:\")\n",
    "   \n",
    "    return(s)"
   ]
  },
  {
   "cell_type": "code",
   "execution_count": 27,
   "id": "0204c9b7",
   "metadata": {},
   "outputs": [
    {
     "name": "stdout",
     "output_type": "stream",
     "text": [
      "factorial of 3 is:\n"
     ]
    },
    {
     "data": {
      "text/plain": [
       "6"
      ]
     },
     "execution_count": 27,
     "metadata": {},
     "output_type": "execute_result"
    }
   ],
   "source": [
    "fact(3)"
   ]
  },
  {
   "cell_type": "code",
   "execution_count": 36,
   "id": "87c82599",
   "metadata": {},
   "outputs": [
    {
     "name": "stdout",
     "output_type": "stream",
     "text": [
      "Todays day 2023-12-18 15:05:44.535281\n"
     ]
    }
   ],
   "source": [
    "def month(a):\n",
    "    if a==1:\n",
    "        print(\"jan\")\n",
    "    elif a==2:\n",
    "        print(\"feb\")\n",
    "    elif a==3:\n",
    "        print(\"mar\")\n",
    "    elif a==4:\n",
    "        print(\"apr\")\n",
    "    elif a==5:\n",
    "        print(\"may\")\n",
    "    elif a==6:\n",
    "        print(\"jun\")\n",
    "    elif a==7:\n",
    "        print(\"jul\")\n",
    "    elif a==8:\n",
    "        print(\"aug\")\n",
    "    elif a==9:\n",
    "        print(\"sept\")\n",
    "    elif a==10:\n",
    "        print(\"oct\")\n",
    "    elif a==11:\n",
    "        print(\"nov\")\n",
    "    elif a==12:\n",
    "        print(\"dec\")\n",
    "    else:\n",
    "        print(\"We only have 12 months a year\")\n",
    "x=datetime.datetime.now()\n",
    "print(\"Todays day\",x)"
   ]
  },
  {
   "cell_type": "code",
   "execution_count": 34,
   "id": "ac479e3e",
   "metadata": {},
   "outputs": [
    {
     "name": "stdout",
     "output_type": "stream",
     "text": [
      "Enter the number corasponding to month:89\n",
      "We only have 12 months a year\n"
     ]
    }
   ],
   "source": [
    "n=int(input(\"Enter the number corasponding to month:\"))\n",
    "month(n)"
   ]
  },
  {
   "cell_type": "code",
   "execution_count": 35,
   "id": "fec89fc5",
   "metadata": {},
   "outputs": [
    {
     "name": "stdout",
     "output_type": "stream",
     "text": [
      "2023-12-18 15:04:10.597385\n"
     ]
    }
   ],
   "source": [
    "import datetime\n",
    "x=datetime.datetime.now()\n",
    "print(x)"
   ]
  },
  {
   "cell_type": "code",
   "execution_count": 37,
   "id": "c60f8bd8",
   "metadata": {},
   "outputs": [
    {
     "name": "stdout",
     "output_type": "stream",
     "text": [
      "may\n"
     ]
    }
   ],
   "source": [
    "month(5)"
   ]
  },
  {
   "cell_type": "code",
   "execution_count": 45,
   "id": "f888daa0",
   "metadata": {},
   "outputs": [],
   "source": [
    "def prime(a):\n",
    "    if a==1:\n",
    "        print(a,\"is not a prime number:\")\n",
    "    elif a>1:\n",
    "        for i in range(2,a):\n",
    "            if(a%i)==0:\n",
    "                print(a,\"is not a prime number:\")\n",
    "                break\n",
    "            else:\n",
    "                print(a,\"is a prime number:\")\n"
   ]
  },
  {
   "cell_type": "code",
   "execution_count": 53,
   "id": "5c8b1258",
   "metadata": {},
   "outputs": [
    {
     "name": "stdout",
     "output_type": "stream",
     "text": [
      "Enter your number:9\n",
      "9 is a prime number:\n",
      "9 is not a prime number:\n"
     ]
    }
   ],
   "source": [
    "a=int(input(\"Enter your number:\"))\n",
    "prime(a)"
   ]
  },
  {
   "cell_type": "code",
   "execution_count": 55,
   "id": "a59c0621",
   "metadata": {},
   "outputs": [
    {
     "name": "stdout",
     "output_type": "stream",
     "text": [
      "Enter the number:9\n",
      "9 is a prime number\n",
      "9 is not a prime number\n",
      "3 times 3 is 9\n"
     ]
    }
   ],
   "source": [
    "num=int(input(\"Enter the number:\"))\n",
    "if num == 1:\n",
    "    print(num, \"is not a prime number\")\n",
    "elif num > 1:\n",
    "    for i in range(2,num):\n",
    "        if (num % i) == 0:\n",
    "            print(num,\"is not a prime number\")\n",
    "            print(i,\"times\",num//i,\"is\",num)\n",
    "            break\n",
    "        else:\n",
    "            print(num,\"is a prime number\")\n",
    "else:\n",
    "    print(num,\"is not a prime number\")"
   ]
  },
  {
   "cell_type": "code",
   "execution_count": null,
   "id": "2055e76f",
   "metadata": {},
   "outputs": [],
   "source": []
  }
 ],
 "metadata": {
  "kernelspec": {
   "display_name": "Python 3 (ipykernel)",
   "language": "python",
   "name": "python3"
  },
  "language_info": {
   "codemirror_mode": {
    "name": "ipython",
    "version": 3
   },
   "file_extension": ".py",
   "mimetype": "text/x-python",
   "name": "python",
   "nbconvert_exporter": "python",
   "pygments_lexer": "ipython3",
   "version": "3.11.5"
  }
 },
 "nbformat": 4,
 "nbformat_minor": 5
}
