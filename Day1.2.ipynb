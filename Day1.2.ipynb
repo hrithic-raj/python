{
 "cells": [
  {
   "cell_type": "code",
   "execution_count": 7,
   "id": "ad56903f",
   "metadata": {},
   "outputs": [
    {
     "name": "stdout",
     "output_type": "stream",
     "text": [
      "purchase amount= 100\n",
      "Your purchase amount is less than 2500$ \n",
      "So You are not eligible for the 10% disconunt \n",
      "total payable amount= 100\n"
     ]
    }
   ],
   "source": [
    "a=int(input(\"purchase amount= \"))\n",
    "if a>=2500:\n",
    "    b=((a/100)*10)\n",
    "    c=a-b\n",
    "    print(\"10% Discount=\",b)\n",
    "    print(\"total payable amount=\",c)\n",
    "else:\n",
    "    print(\"Your purchase amount is less than 2500$ \\nSo You are not eligible for the 10% disconunt \\ntotal payable amount=\",a)"
   ]
  },
  {
   "cell_type": "code",
   "execution_count": 13,
   "id": "9e4e5a42",
   "metadata": {},
   "outputs": [
    {
     "name": "stdout",
     "output_type": "stream",
     "text": [
      "Number:-2\n",
      "-2 is a negative number\n"
     ]
    }
   ],
   "source": [
    "a=int(input(\"Number:\"))\n",
    "if a==0:\n",
    "    print(\"The number you entered is ZERO\")\n",
    "elif a>=1:\n",
    "    print(a,\"is a positive number\")\n",
    "else:\n",
    "    print(a,\"is a negative number\")"
   ]
  },
  {
   "cell_type": "code",
   "execution_count": null,
   "id": "18019fa5",
   "metadata": {},
   "outputs": [],
   "source": []
  },
  {
   "cell_type": "code",
   "execution_count": 16,
   "id": "b2a44405",
   "metadata": {},
   "outputs": [
    {
     "name": "stdout",
     "output_type": "stream",
     "text": [
      "1st number:5\n",
      "2nd number:5\n",
      "Enter the operator*\n",
      "result= 25\n"
     ]
    }
   ],
   "source": [
    "a=int(input(\"1st number:\"))\n",
    "b=int(input(\"2nd number:\"))\n",
    "c=(input(\"Enter the operator\"))\n",
    "if c==\"+\":\n",
    "    print(\"result=\",a+b)\n",
    "elif c==\"-\":\n",
    "    print(\"result=\",a-b)\n",
    "elif c==\"/\":\n",
    "    print(\"result=\",a/b)\n",
    "else:\n",
    "    print(\"result=\",a*b)"
   ]
  },
  {
   "cell_type": "code",
   "execution_count": 23,
   "id": "2ed44ce7",
   "metadata": {},
   "outputs": [
    {
     "name": "stdout",
     "output_type": "stream",
     "text": [
      "1st number:342\n",
      "2nd number:2342\n",
      "3rd number:54345\n",
      "54345 is the greater number\n"
     ]
    }
   ],
   "source": [
    "a=int(input(\"1st number:\"))\n",
    "b=int(input(\"2nd number:\"))\n",
    "c=int(input(\"3rd number:\"))\n",
    "if (a>b and a>c):\n",
    "    print(a,\"is the greater number\")\n",
    "elif (b>a and b>c):\n",
    "    print(b,\"is the greater number\")\n",
    "elif (c>a and c>b):\n",
    "    print(c,\"is the greater number\")\n",
    "else:\n",
    "    print(\"invalid\")"
   ]
  },
  {
   "cell_type": "code",
   "execution_count": 29,
   "id": "4d927eee",
   "metadata": {},
   "outputs": [
    {
     "ename": "TypeError",
     "evalue": "Random.random() takes no arguments (1 given)",
     "output_type": "error",
     "traceback": [
      "\u001b[1;31m---------------------------------------------------------------------------\u001b[0m",
      "\u001b[1;31mTypeError\u001b[0m                                 Traceback (most recent call last)",
      "Cell \u001b[1;32mIn[29], line 2\u001b[0m\n\u001b[0;32m      1\u001b[0m \u001b[38;5;28;01mimport\u001b[39;00m \u001b[38;5;21;01mrandom\u001b[39;00m\n\u001b[1;32m----> 2\u001b[0m num\u001b[38;5;241m=\u001b[39mrandom\u001b[38;5;241m.\u001b[39mrandom(\u001b[38;5;241m100\u001b[39m)\n\u001b[0;32m      3\u001b[0m num\n",
      "\u001b[1;31mTypeError\u001b[0m: Random.random() takes no arguments (1 given)"
     ]
    }
   ],
   "source": [
    "import random\n",
    "num=random.random()\n",
    "num\n"
   ]
  },
  {
   "cell_type": "code",
   "execution_count": 31,
   "id": "8a568625",
   "metadata": {},
   "outputs": [
    {
     "data": {
      "text/plain": [
       "30"
      ]
     },
     "execution_count": 31,
     "metadata": {},
     "output_type": "execute_result"
    }
   ],
   "source": [
    "a=[10,20,30]\n",
    "x=random.choice(a)\n",
    "x"
   ]
  },
  {
   "cell_type": "code",
   "execution_count": 71,
   "id": "42cc0414",
   "metadata": {},
   "outputs": [
    {
     "name": "stdout",
     "output_type": "stream",
     "text": [
      "select stone or paper or scissorpaper\n",
      "computer: stone\n",
      "hrj: paper\n",
      "hrj win\n"
     ]
    }
   ],
   "source": [
    "a=[\"stone\",\"paper\",\"scissor\"]\n",
    "com=random.choice(a)\n",
    "hrj=input(\"select stone or paper or scissor\")\n",
    "print(\"computer:\",com)\n",
    "print(\"hrj:\",hrj)\n",
    "if com==hrj:\n",
    "    print(\"drow\")\n",
    "elif com==\"stone\" and hrj==\"paper\":\n",
    "    print(\"hrj win\")\n",
    "elif com==\"paper\" and hrj==\"scissor\":\n",
    "    print(\"hrj win\")\n",
    "elif com==\"stone\" and hrj==\"scissor\":\n",
    "    print(\"computer win\")\n",
    "elif com==\"paper\" and hrj==\"stone\":\n",
    "    print(\"computer win\")\n",
    "elif com==\"scissor\" and hrj==\"paper\":\n",
    "    print(\"computer win\")\n",
    "elif com==\"scossor\" and hrj==\"stone\":\n",
    "    print(\"hrj win\")\n",
    "else:\n",
    "    print(\"invalid\")"
   ]
  },
  {
   "cell_type": "code",
   "execution_count": null,
   "id": "c403c148",
   "metadata": {},
   "outputs": [],
   "source": []
  },
  {
   "cell_type": "code",
   "execution_count": 76,
   "id": "b2460c75",
   "metadata": {},
   "outputs": [
    {
     "name": "stdout",
     "output_type": "stream",
     "text": [
      "1st number:23\n",
      "2nd number:2\n",
      "3rd number:2\n",
      "23 is greater\n"
     ]
    }
   ],
   "source": [
    "a=int(input(\"1st number:\"))\n",
    "b=int(input(\"2nd number:\"))\n",
    "c=int(input(\"3rd number:\"))\n",
    "if a>b:\n",
    "    if a>c:\n",
    "        print(a,\"is greater\")\n",
    "    else:\n",
    "        print(c,\"is greater\")\n",
    "elif c>b:\n",
    "    if c>a:\n",
    "        print(c,\"is greater\")\n",
    "else:\n",
    "    print(b,\"is greater\")"
   ]
  },
  {
   "cell_type": "code",
   "execution_count": null,
   "id": "151c9925",
   "metadata": {},
   "outputs": [],
   "source": []
  },
  {
   "cell_type": "code",
   "execution_count": null,
   "id": "fb0dbd2f",
   "metadata": {},
   "outputs": [],
   "source": []
  }
 ],
 "metadata": {
  "kernelspec": {
   "display_name": "Python 3 (ipykernel)",
   "language": "python",
   "name": "python3"
  },
  "language_info": {
   "codemirror_mode": {
    "name": "ipython",
    "version": 3
   },
   "file_extension": ".py",
   "mimetype": "text/x-python",
   "name": "python",
   "nbconvert_exporter": "python",
   "pygments_lexer": "ipython3",
   "version": "3.11.5"
  }
 },
 "nbformat": 4,
 "nbformat_minor": 5
}
